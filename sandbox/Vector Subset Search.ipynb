{
 "cells": [
  {
   "cell_type": "code",
   "execution_count": 1,
   "metadata": {},
   "outputs": [],
   "source": [
    "from sqlalchemy.orm import scoped_session, sessionmaker\n",
    "from flask import Blueprint, Flask, session, request, jsonify\n",
    "from decipher.framework.schema import engine, Problem\n",
    "from decipher.framework.indexer import preprocess_text\n",
    "\n",
    "session = scoped_session(sessionmaker(bind=engine))"
   ]
  },
  {
   "cell_type": "code",
   "execution_count": 2,
   "metadata": {},
   "outputs": [],
   "source": [
    "problems = session.query(Problem).all()\n",
    "\n",
    "terms = ['directed', 'undirected', 'vertices', 'edges']\n",
    "\n",
    "term_ind = {}\n",
    "temp_ind = 0 \n",
    "for term in terms:\n",
    "    term_ind[term] = temp_ind\n",
    "    temp_ind+=1\n",
    "    \n",
    "doc_vector = [[0]*len(terms) for i in range(len(problems))]\n",
    "doc_vector_ind = {}\n",
    "\n",
    "temp_ind = 0\n",
    "for problem in problems:\n",
    "    doc_vector_ind[temp_ind] = problem.problem_id\n",
    "    statement_p = preprocess_text(problem.statement)\n",
    "    for i in statement_p[0]:\n",
    "        if i in terms:\n",
    "            doc_vector[temp_ind][term_ind[i]]+=1\n",
    "    temp_ind+=1\n",
    "#     print(statement_p)"
   ]
  },
  {
   "cell_type": "code",
   "execution_count": 3,
   "metadata": {},
   "outputs": [],
   "source": [
    "problem_vectors = []\n",
    "old_doc_vector_ind = doc_vector_ind.copy()\n",
    "doc_vector_ind = {}\n",
    "temp_ind = 0\n",
    "for i in range(len(doc_vector)):\n",
    "    if max(doc_vector[i])+min(doc_vector[i])!=0:\n",
    "        doc_vector_ind[old_doc_vector_ind[i]] = temp_ind\n",
    "        problem_vectors.append(tuple(doc_vector[i]))\n",
    "        temp_ind+=1"
   ]
  },
  {
   "cell_type": "code",
   "execution_count": 4,
   "metadata": {},
   "outputs": [],
   "source": [
    "import itertools\n",
    "import collections\n",
    "import numpy as np\n",
    "\n",
    "class Solver:\n",
    "\n",
    "    '''\n",
    "    Solver class.\n",
    "    '''\n",
    "\n",
    "    def __init__(self, Y, M, epsilon, distance):\n",
    "        '''\n",
    "        Parameters\n",
    "        ----------\n",
    "            Y : list<vector>\n",
    "                Finite set of vectors\n",
    "            M : int\n",
    "                Positive integer lesser than the size of Y\n",
    "            epsilon : float\n",
    "                Relative error\n",
    "            distance : callable\n",
    "                Distance metric\n",
    "        '''\n",
    "        self.Y = Y\n",
    "        if isinstance(Y[0], int):\n",
    "            self.q = 1\n",
    "        else:\n",
    "            self.q = len(Y[0])\n",
    "        self.M = M\n",
    "        self.epsilon = epsilon\n",
    "        self.distance = distance\n",
    "\n",
    "    def solve(self):        \n",
    "        min_obj_fun_val = 1e10\n",
    "        opt_subset = []\n",
    "        n = len(self.Y)\n",
    "        for y in self.Y:\n",
    "            print (str(n) + ' objects remaining')\n",
    "            n-=1\n",
    "            \n",
    "            ZMyY = self.computeZMvY(y) # M elements of Y closest to y\n",
    "\n",
    "            rMyY = ZMyY[-1][-1] # maximal distance between y and elements in ZMyY\n",
    "            \n",
    "            h = self.epsilon*1.0 / (self.q*self.M)**0.5 * rMyY\n",
    "\n",
    "            H = self.M**0.5 * rMyY\n",
    "\n",
    "            if rMyY==0:\n",
    "                return ZMyY, rMyY\n",
    "\n",
    "            ByhH = self.generateByhH(y,h,H)\n",
    "            \n",
    "            nb = len(ByhH)\n",
    "            \n",
    "            for b in ByhH:\n",
    "                \n",
    "#                 print (str(nb) + ' subobjects remaining')\n",
    "                nb-=1\n",
    "                \n",
    "                ZMbY = self.computeZMvY(b)\n",
    "\n",
    "                subset = [i[0] for i in ZMbY]\n",
    "\n",
    "                obj_fun_val = self.computeObj(subset)\n",
    "\n",
    "                if obj_fun_val < min_obj_fun_val:\n",
    "                    min_obj_fun_val = obj_fun_val\n",
    "                    opt_subset = subset\n",
    "        return opt_subset, min_obj_fun_val\n",
    "\n",
    "    def generateByhH(self, y, h, H):\n",
    "        if self.q==1:\n",
    "            return np.hstack((\n",
    "                np.arange(y, -1*H, h), np.arange(y, H, h)\n",
    "            ))\n",
    "        arr = [[] for i in range(self.q)]\n",
    "        for i in  range(self.q):\n",
    "            arr[i] = np.hstack((\n",
    "                np.arange(y[i], -1*H, -1*h), np.arange(y[i], H, h)\n",
    "            ))\n",
    "        out = []\n",
    "        n = self.q\n",
    "        indices = [0 for i in range(n)]\n",
    "        \n",
    "        print ('generating ByhH. number of elements in each dimension: ', end = ' ')\n",
    "        for i in range(len(arr)):\n",
    "            print (len(arr[i]), end = ' ')\n",
    "        print()\n",
    "        \n",
    "        while (1):\n",
    "            out.append([])\n",
    "            for i in range(n):\n",
    "                out[-1].append(arr[i][indices[i]])\n",
    "            next = n - 1\n",
    "            while (next >= 0 and\n",
    "                (indices[next] + 1 >= len(arr[next]))):\n",
    "                next-=1\n",
    "            if (next < 0):\n",
    "                return out\n",
    "            indices[next] += 1\n",
    "            for i in range(next + 1, n):\n",
    "                indices[i] = 0\n",
    "        return out\n",
    "\n",
    "    def computeObj(self, Y):\n",
    "        Y = np.array(Y)\n",
    "\n",
    "        y_mean = sum(Y)/len(Y)\n",
    "\n",
    "        val = 0\n",
    "\n",
    "        for y in Y:\n",
    "            val += self.distance(y, y_mean)\n",
    "\n",
    "        return val\n",
    "\n",
    "\n",
    "        \n",
    "    def computeZMvY(self, y):\n",
    "        dist = collections.OrderedDict()\n",
    "        for v in self.Y:\n",
    "            dist[v] = self.distance(y, v)\n",
    "        dist = sorted(dist.items(), key=lambda kv: kv[1])\n",
    "        return dist[:self.M]"
   ]
  },
  {
   "cell_type": "code",
   "execution_count": 5,
   "metadata": {},
   "outputs": [],
   "source": [
    "from numpy import dot\n",
    "from numpy.linalg import norm\n",
    "\n",
    "def cos_sim(a,b):\n",
    "    return dot(a, b)/(norm(a)*norm(b))\n",
    "\n",
    "solver = Solver(problem_vectors, 3, 4, cos_sim)"
   ]
  },
  {
   "cell_type": "code",
   "execution_count": 53,
   "metadata": {},
   "outputs": [
    {
     "name": "stdout",
     "output_type": "stream",
     "text": [
      "15 objects remaining\n",
      "generating ByhH. number of elements in each dimension:  28 4 11 4 \n",
      "14 objects remaining\n"
     ]
    },
    {
     "data": {
      "text/plain": [
       "[(2, 0, 0, 0), (0, 1, 0, 0), (1, 0, 0, 0)]"
      ]
     },
     "execution_count": 53,
     "metadata": {},
     "output_type": "execute_result"
    }
   ],
   "source": [
    "subset_vec,_ = solver.solve()\n",
    "for i in range(len(subset_vec)):\n",
    "    subset_vec[i] = subset_vec[i][0]\n",
    "subset_vec"
   ]
  },
  {
   "cell_type": "code",
   "execution_count": 73,
   "metadata": {},
   "outputs": [],
   "source": [
    "subset_problem_id = []\n",
    "for i in range(len(problem_vectors)):\n",
    "    vec = tuple(problem_vectors[i])\n",
    "    if vec in subset_vec:\n",
    "        for id in doc_vector_ind:\n",
    "            if doc_vector_ind[id]==i:\n",
    "                subset_problem_id.append(id)\n",
    "                break"
   ]
  },
  {
   "cell_type": "code",
   "execution_count": 74,
   "metadata": {},
   "outputs": [
    {
     "data": {
      "text/plain": [
       "['1407E', '1387A', '1388C', '1368E']"
      ]
     },
     "execution_count": 74,
     "metadata": {},
     "output_type": "execute_result"
    }
   ],
   "source": [
    "subset_problem_id"
   ]
  },
  {
   "cell_type": "code",
   "execution_count": 78,
   "metadata": {},
   "outputs": [
    {
     "name": "stdout",
     "output_type": "stream",
     "text": [
      "Egor is a famous Russian singer, rapper, actor and blogger, and finally he decided to give a concert in the sunny Republic of Dagestan.There are $$$n$$$ cities in the republic, some of them are connected by $$$m$$$ directed roads without any additional conditions. In other words, road system of Dagestan represents an arbitrary directed graph. Egor will arrive to the city $$$1$$$, travel to the city $$$n$$$ by roads along some path, give a concert and fly away.As any famous artist, Egor has lots of haters and too annoying fans, so he can travel only by safe roads. There are two types of the roads in Dagestan, black and white: black roads are safe at night only, and white roads — in the morning. Before the trip Egor's manager's going to make a schedule: for each city he'll specify it's color, black or white, and then if during the trip they visit some city, the only time they can leave it is determined by the city's color: night, if it's black, and morning, if it's white. After creating the schedule Egor chooses an available path from $$$1$$$ to $$$n$$$, and for security reasons it has to be the shortest possible.Egor's manager likes Dagestan very much and wants to stay here as long as possible, so he asks you to make such schedule that there would be no path from $$$1$$$ to $$$n$$$ or the shortest path's length would be greatest possible.A path is one city or a sequence of roads such that for every road (excluding the first one) the city this road goes from is equal to the city previous road goes into. Egor can move only along paths consisting of safe roads only. The path length is equal to the number of roads in it. The shortest path in a graph is a path with smallest length.\n",
      "\n",
      "You are given an undirected graph where each edge has one of two colors: black or red.Your task is to assign a real number to each node so that:   for each black edge the sum of values at its endpoints is $$$1$$$;  for each red edge the sum of values at its endpoints is $$$2$$$;  the sum of the absolute values of all assigned numbers is the smallest possible. Otherwise, if it is not possible, report that there is no feasible assignment of the numbers.\n",
      "\n",
      "Uncle Bogdan is in captain Flint's crew for a long time and sometimes gets nostalgic for his homeland. Today he told you how his country introduced a happiness index.There are $$$n$$$ cities and $$$n−1$$$ undirected roads connecting pairs of cities. Citizens of any city can reach any other city traveling by these roads. Cities are numbered from $$$1$$$ to $$$n$$$ and the city $$$1$$$ is a capital. In other words, the country has a tree structure.There are $$$m$$$ citizens living in the country. A $$$p_i$$$ people live in the $$$i$$$-th city but all of them are working in the capital. At evening all citizens return to their home cities using the shortest paths. Every person has its own mood: somebody leaves his workplace in good mood but somebody are already in bad mood. Moreover any person can ruin his mood on the way to the hometown. If person is in bad mood he won't improve it.Happiness detectors are installed in each city to monitor the happiness of each person who visits the city. The detector in the $$$i$$$-th city calculates a happiness index $$$h_i$$$ as the number of people in good mood minus the number of people in bad mood. Let's say for the simplicity that mood of a person doesn't change inside the city.Happiness detector is still in development, so there is a probability of a mistake in judging a person's happiness. One late evening, when all citizens successfully returned home, the government asked uncle Bogdan (the best programmer of the country) to check the correctness of the collected happiness indexes.Uncle Bogdan successfully solved the problem. Can you do the same?More formally, You need to check: \"Is it possible that, after all people return home, for each city $$$i$$$ the happiness index will be equal exactly to $$$h_i$$$\".\n",
      "\n",
      "Arthur owns a ski resort on a mountain. There are $$$n$$$ landing spots on the mountain numbered from $$$1$$$ to $$$n$$$ from the top to the foot of the mountain. The spots are connected with one-directional ski tracks. All tracks go towards the foot of the mountain, so there are no directed cycles formed by the tracks. There are at most two tracks leaving each spot, but many tracks may enter the same spot.A skier can start skiing from one spot and stop in another spot if there is a sequence of tracks that lead from the starting spot and end in the ending spot. Unfortunately, recently there were many accidents, because the structure of the resort allows a skier to go through dangerous paths, by reaching high speed and endangering himself and the other customers. Here, a path is called dangerous, if it consists of at least two tracks.Arthur wants to secure his customers by closing some of the spots in a way that there are no dangerous paths in the resort. When a spot is closed, all tracks entering and leaving that spot become unusable. Formally, after closing some of the spots, there should not be a path that consists of two or more tracks.Arthur doesn't want to close too many spots. He will be happy to find any way to close at most $$$\\frac{4}{7}n$$$ spots so that the remaining part is safe. Help him find any suitable way to do so.\n",
      "\n"
     ]
    }
   ],
   "source": [
    "for i in problems:\n",
    "    if i.problem_id in subset_problem_id:\n",
    "        print (i.statement, end = '\\n\\n')"
   ]
  },
  {
   "cell_type": "code",
   "execution_count": null,
   "metadata": {},
   "outputs": [],
   "source": []
  }
 ],
 "metadata": {
  "kernelspec": {
   "display_name": "Python 3",
   "language": "python",
   "name": "python3"
  },
  "language_info": {
   "codemirror_mode": {
    "name": "ipython",
    "version": 3
   },
   "file_extension": ".py",
   "mimetype": "text/x-python",
   "name": "python",
   "nbconvert_exporter": "python",
   "pygments_lexer": "ipython3",
   "version": "3.7.5"
  }
 },
 "nbformat": 4,
 "nbformat_minor": 4
}
